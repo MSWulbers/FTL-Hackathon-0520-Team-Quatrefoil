{
 "cells": [
  {
   "cell_type": "code",
   "execution_count": 57,
   "metadata": {},
   "outputs": [],
   "source": [
    "# Load all important libraries\n",
    "import seaborn as sns\n",
    "import random\n",
    "import pickle\n",
    "from vaderSentiment.vaderSentiment import SentimentIntensityAnalyzer\n",
    "import pandas as pd"
   ]
  },
  {
   "cell_type": "code",
   "execution_count": null,
   "metadata": {},
   "outputs": [],
   "source": [
    "# Load in Data\n",
    "df = pd.read_csv(\"Data_Reddit_Facemasks_Comments.csv\")\n",
    "keepls = pd.Series(np.zeros(len(df)), name=\"Keep\")\n",
    "df1 = pd.concat([df, keepls], axis=1)\n",
    "\n",
    "# Narrow Down Data to Coronavirus keywords\n",
    "regexp = re.compile(r'corona|virus|COVID-19|covid|coughing|n95|Coronavirus|covid-19|Virus|China|sanitizer|nurse|doctor|hospital|transmission|infection|lung|sick|illness|isolation|fever|washing|touching|flu|Flu|medic|medical|touch|shield|immunity|cough|protect|protection|COVID|pandemic|Pandemic|Medical|Corona|risk|government|disease|flying|WHO|research|researchers|china|SARS|wear|germ|germs|infect|professional|respirators|NHS|CDC|Fauci|plague|scarf|distribute|forced|require|required|mandate|effective|president')\n",
    "\n",
    "# For Subset Data, Create '1' Entry\n",
    "for i in range(len(df1)):\n",
    "    if regexp.search(df1['full_text'].iloc[i]):\n",
    "        df1.iloc[i,13] = 1\n",
    "        \n",
    "# Create Cleaned DataFrame\n",
    "df2 = df1[df1['Keep']==1]\n",
    "print(len(df2))\n",
    "\n",
    "# Create CSV\n",
    "df2.to_csv(\"CleanedComments.csv\")"
   ]
  },
  {
   "cell_type": "code",
   "execution_count": 60,
   "metadata": {},
   "outputs": [],
   "source": [
    "# Load in the Data\n",
    "df = pd.read_csv(\"comments_reduced.csv\")\n",
    "sentences = df['Text']\n",
    "\n",
    "# Vader Analysis on Text\n",
    "analyzer = SentimentIntensityAnalyzer()\n",
    "sentscore = []\n",
    "for sentence in sentences:\n",
    "    vs = analyzer.polarity_scores(sentence)\n",
    "    sentscore.append(vs)\n",
    "\n",
    "# Create Vader DF\n",
    "vader_df = pd.DataFrame(sentscore)\n",
    "\n",
    "# Create DataFrame to merge witb\n",
    "merge_df = df[['Comment.ID', 'Score', 'Subreddit', 'Created.Date']]\n",
    "\n",
    "# Concatenate the Vader DF \n",
    "final_df = pd.concat([merge_df, vader_df], axis=1)\n",
    "\n",
    "# Create CSV\n",
    "final_df.to_csv(\"Comments_Vader_Reduced.csv\")"
   ]
  }
 ],
 "metadata": {
  "kernelspec": {
   "display_name": "Python 3",
   "language": "python",
   "name": "python3"
  },
  "language_info": {
   "codemirror_mode": {
    "name": "ipython",
    "version": 3
   },
   "file_extension": ".py",
   "mimetype": "text/x-python",
   "name": "python",
   "nbconvert_exporter": "python",
   "pygments_lexer": "ipython3",
   "version": "3.7.6"
  }
 },
 "nbformat": 4,
 "nbformat_minor": 4
}
