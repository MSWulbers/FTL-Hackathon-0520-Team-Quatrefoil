{
 "cells": [
  {
   "cell_type": "code",
   "execution_count": null,
   "metadata": {},
   "outputs": [],
   "source": [
    "import vaderSentiment\n",
    "from vaderSentiment.vaderSentiment import SentimentIntensityAnalyzer\n",
    "import pandas as pd\n",
    "\n",
    "df = pd.read_csv(\"CleanedCommentsFinal.csv\")\n",
    "text = df['Text']\n",
    "sentences = text[70000:]\n",
    "\n",
    "# Vader\n",
    "analyzer = SentimentIntensityAnalyzer()\n",
    "sentscore = []\n",
    "for sentence in sentences:\n",
    "    vs = analyzer.polarity_scores(sentence)\n",
    "    sentscore.append(vs)\n",
    "\n",
    "vader_df = pd.DataFrame(sentscore)\n",
    "\n",
    "merge_df = df[['Comment ID', 'Score', 'Subreddit', 'Created Date']]\n",
    "\n",
    "\n",
    "final_df = pd.concat([merge_df, vader_df], axis=1)\n",
    "\n",
    "final_df.to_csv(\"Comments_Vader_Part4.csv\")"
   ]
  }
 ],
 "metadata": {
  "kernelspec": {
   "display_name": "Python 3",
   "language": "python",
   "name": "python3"
  },
  "language_info": {
   "codemirror_mode": {
    "name": "ipython",
    "version": 3
   },
   "file_extension": ".py",
   "mimetype": "text/x-python",
   "name": "python",
   "nbconvert_exporter": "python",
   "pygments_lexer": "ipython3",
   "version": "3.7.3"
  }
 },
 "nbformat": 4,
 "nbformat_minor": 2
}
